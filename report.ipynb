{
 "cells": [
  {
   "cell_type": "markdown",
   "metadata": {},
   "source": [
    "# BTW 2025 Data Science Challenge"
   ]
  },
  {
   "cell_type": "markdown",
   "metadata": {},
   "source": [
    "**TODO Introduction**"
   ]
  },
  {
   "cell_type": "markdown",
   "metadata": {},
   "source": [
    "## Utils\n"
   ]
  },
  {
   "cell_type": "code",
   "execution_count": null,
   "metadata": {},
   "outputs": [
    {
     "name": "stdout",
     "output_type": "stream",
     "text": [
      "Defaulting to user installation because normal site-packages is not writeable\n",
      "Collecting git+https://github.com/amazon-science/chronos-forecasting.git\n",
      "  Cloning https://github.com/amazon-science/chronos-forecasting.git to /tmp/pip-req-build-tlb5hio8\n",
      "  Running command git clone --filter=blob:none --quiet https://github.com/amazon-science/chronos-forecasting.git /tmp/pip-req-build-tlb5hio8\n",
      "  Resolved https://github.com/amazon-science/chronos-forecasting.git to commit ad410c9c0ae0d499aeec9a7af09b0636844b6274\n",
      "  Installing build dependencies ... \u001b[?25ldone\n",
      "\u001b[?25h  Getting requirements to build wheel ... \u001b[?25ldone\n",
      "\u001b[?25h  Preparing metadata (pyproject.toml) ... \u001b[?25ldone\n",
      "\u001b[?25hRequirement already satisfied: torch<2.6,>=2.0 in /home/julius/.local/lib/python3.10/site-packages (from chronos-forecasting==1.4.1) (2.3.1+cu121)\n",
      "Requirement already satisfied: accelerate<1,>=0.32 in /home/julius/.local/lib/python3.10/site-packages (from chronos-forecasting==1.4.1) (0.34.2)\n",
      "Requirement already satisfied: transformers<4.48,>=4.30 in /home/julius/.local/lib/python3.10/site-packages (from chronos-forecasting==1.4.1) (4.46.1)\n",
      "Requirement already satisfied: huggingface-hub>=0.21.0 in /home/julius/.local/lib/python3.10/site-packages (from accelerate<1,>=0.32->chronos-forecasting==1.4.1) (0.26.2)\n",
      "Requirement already satisfied: numpy<3.0.0,>=1.17 in /home/julius/.local/lib/python3.10/site-packages (from accelerate<1,>=0.32->chronos-forecasting==1.4.1) (1.26.4)\n",
      "Requirement already satisfied: psutil in /home/julius/.local/lib/python3.10/site-packages (from accelerate<1,>=0.32->chronos-forecasting==1.4.1) (6.1.0)\n",
      "Requirement already satisfied: safetensors>=0.4.3 in /home/julius/.local/lib/python3.10/site-packages (from accelerate<1,>=0.32->chronos-forecasting==1.4.1) (0.4.5)\n",
      "Requirement already satisfied: packaging>=20.0 in /home/julius/.local/lib/python3.10/site-packages (from accelerate<1,>=0.32->chronos-forecasting==1.4.1) (24.1)\n",
      "Requirement already satisfied: pyyaml in /usr/lib/python3/dist-packages (from accelerate<1,>=0.32->chronos-forecasting==1.4.1) (5.4.1)\n",
      "Requirement already satisfied: typing-extensions>=4.8.0 in /home/julius/.local/lib/python3.10/site-packages (from torch<2.6,>=2.0->chronos-forecasting==1.4.1) (4.12.2)\n",
      "Requirement already satisfied: fsspec in /home/julius/.local/lib/python3.10/site-packages (from torch<2.6,>=2.0->chronos-forecasting==1.4.1) (2024.2.0)\n",
      "Requirement already satisfied: jinja2 in /home/julius/.local/lib/python3.10/site-packages (from torch<2.6,>=2.0->chronos-forecasting==1.4.1) (3.1.3)\n",
      "Requirement already satisfied: nvidia-cuda-runtime-cu12==12.1.105 in /home/julius/.local/lib/python3.10/site-packages (from torch<2.6,>=2.0->chronos-forecasting==1.4.1) (12.1.105)\n",
      "Requirement already satisfied: nvidia-cuda-cupti-cu12==12.1.105 in /home/julius/.local/lib/python3.10/site-packages (from torch<2.6,>=2.0->chronos-forecasting==1.4.1) (12.1.105)\n",
      "Requirement already satisfied: sympy in /home/julius/.local/lib/python3.10/site-packages (from torch<2.6,>=2.0->chronos-forecasting==1.4.1) (1.13.1)\n",
      "Requirement already satisfied: nvidia-cusparse-cu12==12.1.0.106 in /home/julius/.local/lib/python3.10/site-packages (from torch<2.6,>=2.0->chronos-forecasting==1.4.1) (12.1.0.106)\n",
      "Requirement already satisfied: triton==2.3.1 in /home/julius/.local/lib/python3.10/site-packages (from torch<2.6,>=2.0->chronos-forecasting==1.4.1) (2.3.1)\n",
      "Requirement already satisfied: nvidia-cublas-cu12==12.1.3.1 in /home/julius/.local/lib/python3.10/site-packages (from torch<2.6,>=2.0->chronos-forecasting==1.4.1) (12.1.3.1)\n",
      "Requirement already satisfied: nvidia-cudnn-cu12==8.9.2.26 in /home/julius/.local/lib/python3.10/site-packages (from torch<2.6,>=2.0->chronos-forecasting==1.4.1) (8.9.2.26)\n",
      "Requirement already satisfied: nvidia-curand-cu12==10.3.2.106 in /home/julius/.local/lib/python3.10/site-packages (from torch<2.6,>=2.0->chronos-forecasting==1.4.1) (10.3.2.106)\n",
      "Requirement already satisfied: nvidia-cusolver-cu12==11.4.5.107 in /home/julius/.local/lib/python3.10/site-packages (from torch<2.6,>=2.0->chronos-forecasting==1.4.1) (11.4.5.107)\n",
      "Requirement already satisfied: nvidia-cuda-nvrtc-cu12==12.1.105 in /home/julius/.local/lib/python3.10/site-packages (from torch<2.6,>=2.0->chronos-forecasting==1.4.1) (12.1.105)\n",
      "Requirement already satisfied: nvidia-nvtx-cu12==12.1.105 in /home/julius/.local/lib/python3.10/site-packages (from torch<2.6,>=2.0->chronos-forecasting==1.4.1) (12.1.105)\n",
      "Requirement already satisfied: networkx in /home/julius/.local/lib/python3.10/site-packages (from torch<2.6,>=2.0->chronos-forecasting==1.4.1) (3.2.1)\n",
      "Requirement already satisfied: nvidia-nccl-cu12==2.20.5 in /home/julius/.local/lib/python3.10/site-packages (from torch<2.6,>=2.0->chronos-forecasting==1.4.1) (2.20.5)\n",
      "Requirement already satisfied: filelock in /home/julius/.local/lib/python3.10/site-packages (from torch<2.6,>=2.0->chronos-forecasting==1.4.1) (3.13.1)\n",
      "Requirement already satisfied: nvidia-cufft-cu12==11.0.2.54 in /home/julius/.local/lib/python3.10/site-packages (from torch<2.6,>=2.0->chronos-forecasting==1.4.1) (11.0.2.54)\n",
      "Requirement already satisfied: nvidia-nvjitlink-cu12 in /home/julius/.local/lib/python3.10/site-packages (from nvidia-cusolver-cu12==11.4.5.107->torch<2.6,>=2.0->chronos-forecasting==1.4.1) (12.1.105)\n",
      "Requirement already satisfied: tokenizers<0.21,>=0.20 in /home/julius/.local/lib/python3.10/site-packages (from transformers<4.48,>=4.30->chronos-forecasting==1.4.1) (0.20.1)\n",
      "Requirement already satisfied: regex!=2019.12.17 in /home/julius/.local/lib/python3.10/site-packages (from transformers<4.48,>=4.30->chronos-forecasting==1.4.1) (2024.9.11)\n",
      "Requirement already satisfied: requests in /home/julius/.local/lib/python3.10/site-packages (from transformers<4.48,>=4.30->chronos-forecasting==1.4.1) (2.32.3)\n",
      "Requirement already satisfied: tqdm>=4.27 in /home/julius/.local/lib/python3.10/site-packages (from transformers<4.48,>=4.30->chronos-forecasting==1.4.1) (4.66.5)\n",
      "Requirement already satisfied: MarkupSafe>=2.0 in /usr/lib/python3/dist-packages (from jinja2->torch<2.6,>=2.0->chronos-forecasting==1.4.1) (2.0.1)\n",
      "Requirement already satisfied: certifi>=2017.4.17 in /usr/lib/python3/dist-packages (from requests->transformers<4.48,>=4.30->chronos-forecasting==1.4.1) (2020.6.20)\n",
      "Requirement already satisfied: charset-normalizer<4,>=2 in /home/julius/.local/lib/python3.10/site-packages (from requests->transformers<4.48,>=4.30->chronos-forecasting==1.4.1) (3.4.0)\n",
      "Requirement already satisfied: urllib3<3,>=1.21.1 in /usr/lib/python3/dist-packages (from requests->transformers<4.48,>=4.30->chronos-forecasting==1.4.1) (1.26.5)\n",
      "Requirement already satisfied: idna<4,>=2.5 in /usr/lib/python3/dist-packages (from requests->transformers<4.48,>=4.30->chronos-forecasting==1.4.1) (3.3)\n",
      "Requirement already satisfied: mpmath<1.4,>=1.1.0 in /home/julius/.local/lib/python3.10/site-packages (from sympy->torch<2.6,>=2.0->chronos-forecasting==1.4.1) (1.3.0)\n",
      "Defaulting to user installation because normal site-packages is not writeable\n",
      "Looking in indexes: https://download.pytorch.org/whl/cu121\n",
      "Requirement already satisfied: torch==2.3.1 in /home/julius/.local/lib/python3.10/site-packages (2.3.1+cu121)\n",
      "Requirement already satisfied: torchvision==0.18.1 in /home/julius/.local/lib/python3.10/site-packages (0.18.1+cu121)\n",
      "Requirement already satisfied: torchaudio==2.3.1 in /home/julius/.local/lib/python3.10/site-packages (2.3.1+cu121)\n",
      "Requirement already satisfied: triton==2.3.1 in /home/julius/.local/lib/python3.10/site-packages (from torch==2.3.1) (2.3.1)\n",
      "Requirement already satisfied: nvidia-cublas-cu12==12.1.3.1 in /home/julius/.local/lib/python3.10/site-packages (from torch==2.3.1) (12.1.3.1)\n",
      "Requirement already satisfied: nvidia-curand-cu12==10.3.2.106 in /home/julius/.local/lib/python3.10/site-packages (from torch==2.3.1) (10.3.2.106)\n",
      "Requirement already satisfied: typing-extensions>=4.8.0 in /home/julius/.local/lib/python3.10/site-packages (from torch==2.3.1) (4.12.2)\n",
      "Requirement already satisfied: nvidia-cuda-runtime-cu12==12.1.105 in /home/julius/.local/lib/python3.10/site-packages (from torch==2.3.1) (12.1.105)\n",
      "Requirement already satisfied: filelock in /home/julius/.local/lib/python3.10/site-packages (from torch==2.3.1) (3.13.1)\n",
      "Requirement already satisfied: fsspec in /home/julius/.local/lib/python3.10/site-packages (from torch==2.3.1) (2024.2.0)\n",
      "Requirement already satisfied: jinja2 in /home/julius/.local/lib/python3.10/site-packages (from torch==2.3.1) (3.1.3)\n",
      "Requirement already satisfied: nvidia-cuda-nvrtc-cu12==12.1.105 in /home/julius/.local/lib/python3.10/site-packages (from torch==2.3.1) (12.1.105)\n",
      "Requirement already satisfied: sympy in /home/julius/.local/lib/python3.10/site-packages (from torch==2.3.1) (1.13.1)\n",
      "Requirement already satisfied: nvidia-cuda-cupti-cu12==12.1.105 in /home/julius/.local/lib/python3.10/site-packages (from torch==2.3.1) (12.1.105)\n",
      "Requirement already satisfied: nvidia-cudnn-cu12==8.9.2.26 in /home/julius/.local/lib/python3.10/site-packages (from torch==2.3.1) (8.9.2.26)\n",
      "Requirement already satisfied: nvidia-cufft-cu12==11.0.2.54 in /home/julius/.local/lib/python3.10/site-packages (from torch==2.3.1) (11.0.2.54)\n",
      "Requirement already satisfied: nvidia-cusolver-cu12==11.4.5.107 in /home/julius/.local/lib/python3.10/site-packages (from torch==2.3.1) (11.4.5.107)\n",
      "Requirement already satisfied: nvidia-cusparse-cu12==12.1.0.106 in /home/julius/.local/lib/python3.10/site-packages (from torch==2.3.1) (12.1.0.106)\n",
      "Requirement already satisfied: nvidia-nvtx-cu12==12.1.105 in /home/julius/.local/lib/python3.10/site-packages (from torch==2.3.1) (12.1.105)\n",
      "Requirement already satisfied: nvidia-nccl-cu12==2.20.5 in /home/julius/.local/lib/python3.10/site-packages (from torch==2.3.1) (2.20.5)\n",
      "Requirement already satisfied: networkx in /home/julius/.local/lib/python3.10/site-packages (from torch==2.3.1) (3.2.1)\n",
      "Requirement already satisfied: numpy in /home/julius/.local/lib/python3.10/site-packages (from torchvision==0.18.1) (1.26.4)\n",
      "Requirement already satisfied: pillow!=8.3.*,>=5.3.0 in /usr/lib/python3/dist-packages (from torchvision==0.18.1) (9.0.1)\n",
      "Requirement already satisfied: nvidia-nvjitlink-cu12 in /home/julius/.local/lib/python3.10/site-packages (from nvidia-cusolver-cu12==11.4.5.107->torch==2.3.1) (12.1.105)\n",
      "Requirement already satisfied: MarkupSafe>=2.0 in /usr/lib/python3/dist-packages (from jinja2->torch==2.3.1) (2.0.1)\n",
      "Requirement already satisfied: mpmath<1.4,>=1.1.0 in /home/julius/.local/lib/python3.10/site-packages (from sympy->torch==2.3.1) (1.3.0)\n"
     ]
    }
   ],
   "source": [
    "#from base_model import BaseModel\n",
    "import torch\n",
    "import numpy as np\n",
    "import pandas as pd\n",
    "\n",
    "import os\n",
    "\n",
    "!pip install git+https://github.com/amazon-science/chronos-forecasting.git\n",
    "!pip install torch==2.3.1 torchvision==0.18.1 torchaudio==2.3.1 --index-url https://download.pytorch.org/whl/cu121\n",
    "\n",
    "from chronos import ChronosPipeline"
   ]
  },
  {
   "cell_type": "code",
   "execution_count": 18,
   "metadata": {},
   "outputs": [],
   "source": [
    "\n",
    "# TODO Load Data\n",
    "# TODO Base Model Class\n",
    "\"\"\"\n",
    "Base model structure.\n",
    "Every Forecasting model should inherit from this.\n",
    "\n",
    "Note: override all abstract methods and keep the final methods unchanged\n",
    "\"\"\"\n",
    "import pandas as pd\n",
    "from abc import ABC, abstractmethod\n",
    "from typing import final\n",
    "\n",
    "\n",
    "class BaseModel(ABC):\n",
    "\n",
    "    def __init__(self, model_name: str, model_type: str):\n",
    "        \"\"\"Init and create model.\n",
    "\n",
    "        :param model_name: Name of your model\n",
    "        :param model_type: Type of your model e.g. LSTM\n",
    "        \"\"\"\n",
    "        self.model_name = model_name\n",
    "        self.model_type = model_type\n",
    "        self.model = None  # this is a placeholder for your model\n",
    "        self.__create_model()\n",
    "\n",
    "    @abstractmethod\n",
    "    def __create_model(self):\n",
    "        \"\"\"Define your own model under self.model.\n",
    "        \"\"\"\n",
    "        ...\n",
    "\n",
    "    @abstractmethod\n",
    "    def train(self, X_train: pd.DataFrame, y_train: pd.DataFrame,\n",
    "              X_val: pd.DataFrame = None, y_val: pd.DataFrame = None,\n",
    "              X_test: pd.DataFrame = None, y_test: pd.DataFrame = None) -> pd.DataFrame | None:\n",
    "        \"\"\"train the model on the training data.\n",
    "        test and validation data can be used only for evaluation (if available).\n",
    "\n",
    "        :param X_train: training features dataset\n",
    "        :param y_train: training target values\n",
    "        :param X_val: validation features' dataset\n",
    "        :param y_val: validation target values\n",
    "        :param X_test: testing features' dataset\n",
    "        :param y_test: testing target values\n",
    "        :return: training history (losses while training, if available else None) [epoch | train_loss | test_loss]\n",
    "        \"\"\"\n",
    "        # call the training loop/function of your model\n",
    "        # and return a history (if available, otherwise None)\n",
    "        ...\n",
    "\n",
    "    @abstractmethod\n",
    "    def __run_prediction(self, X: pd.DataFrame) -> pd.DataFrame:\n",
    "        \"\"\"run prediction on your defined model\n",
    "\n",
    "        :param X: features dataset\n",
    "        :return: prediction output, [timestamp | value]\n",
    "        \"\"\"\n",
    "        ...\n",
    "\n",
    "    @final\n",
    "    def predict(self, X: pd.DataFrame, exp_dir: str = None) -> pd.DataFrame:\n",
    "        \"\"\"call this to run prediction\n",
    "\n",
    "        :param X: features dataset\n",
    "        :param exp_dir: dir to store prediction result\n",
    "        :return: prediction output, [timestamp | value]\n",
    "        \"\"\"\n",
    "        # run your custom prediction\n",
    "        prediction_results = self.__run_prediction(X)\n",
    "\n",
    "        # store if dir is provided\n",
    "        if exp_dir is not None:\n",
    "            prediction_results.to_csv(f'{exp_dir}\\\\{self.model_type}_{self.model_name}_prediction.csv')\n",
    "        return prediction_results\n",
    "\n",
    "    @abstractmethod\n",
    "    def __custom_save(self, model: object, filename: str):\n",
    "        \"\"\"Use your own dataformat to save your model here\n",
    "\n",
    "        :param filename: filename or path\n",
    "        \"\"\"\n",
    "        ...\n",
    "\n",
    "    @abstractmethod\n",
    "    def __custom_load(self, filename: str) -> object:\n",
    "        \"\"\"Use your own dataformat to load your model here\n",
    "\n",
    "        :param filename: filename or path\n",
    "        :return: your loaded model\n",
    "        \"\"\"\n",
    "        # return model\n",
    "        ...\n",
    "\n",
    "    @final\n",
    "    def save(self, exp_dir: str):\n",
    "        \"\"\"call this to save self.model.\n",
    "\n",
    "        :param exp_dir: dir name or path to dir\n",
    "        \"\"\"\n",
    "        self.__custom_save(model=self.model, filename=f'{exp_dir}\\\\{self.model_type}_{self.model_name}')\n",
    "\n",
    "    @final\n",
    "    def load(self, exp_dir: str):\n",
    "        \"\"\"call this to load a retrained model\n",
    "\n",
    "        :param exp_dir: dir name or path to dir\n",
    "        \"\"\"\n",
    "        self.model = self.__custom_load(filename=f'{exp_dir}\\\\{self.model_type}_{self.model_name}')\n",
    "\n",
    "\n",
    "# TODO All Models\n",
    "\n",
    "class ChronosModel(BaseModel):\n",
    "    def __init__(self, model_name: str, model_type: str):\n",
    "        \"\"\"Call the BaseModel constructor with the required arguments.\"\"\"\n",
    "        super().__init__(model_name, model_type)\n",
    "\n",
    "    def _BaseModel__create_model(self):\n",
    "        self.model = None\n",
    "\n",
    "    \n",
    "    def _BaseModel__run_prediction(self, X):\n",
    "\n",
    "        #define which column to be forecasted and forecast legth\n",
    "        target_column = \"day_ahead_prices_EURO\"\n",
    "        prediction_length = 24\n",
    "\n",
    "        \n",
    "        context = torch.tensor(X[target_column].values)[-512:]  # Limit context to last 512 samples\n",
    "        forecast = self.model.predict(context, prediction_length)\n",
    "        low, median, high = np.quantile(forecast[0].numpy(), [0.1, 0.5, 0.9], axis=0)\n",
    "\n",
    "        context_dates = X.index[-512:]\n",
    "        last_date = context_dates[-1]\n",
    "        forecast_index = pd.date_range(last_date + pd.Timedelta(hours=1), periods=prediction_length, freq=\"H\")\n",
    "\n",
    "        prediction_results = pd.DataFrame({\n",
    "            \"timestamp\": forecast_index,\n",
    "            \"forecasted_values\": median\n",
    "        })\n",
    "        \n",
    "        return prediction_results\n",
    "\n",
    "    \n",
    "    def _BaseModel__custom_load(self, filename):\n",
    "        # Directory to clone\n",
    "        github_repo_url = filename\n",
    "        local_dir = \"./final-submission\"\n",
    "\n",
    "        # Clone the repository if it doesn't already exist\n",
    "        if not os.path.exists(local_dir):\n",
    "            os.system(f\"git clone {github_repo_url} {local_dir}\")\n",
    "\n",
    "        # Path to the specific directory containing the checkpoint\n",
    "        checkpoint_dir = os.path.join(local_dir, \"chronos/models/models/Chronos-Tiny-2015-1000/checkpoint-final\")\n",
    "        \n",
    "        # Load the model pipeline\n",
    "        pipeline = ChronosPipeline.from_pretrained(\n",
    "            checkpoint_dir,\n",
    "            device_map=(\"cuda\" if torch.cuda.is_available() else \"cpu\"),\n",
    "            torch_dtype=torch.bfloat16,\n",
    "        )\n",
    "\n",
    "        return pipeline\n",
    "\n",
    "    def _BaseModel__custom_save(self, model = None, filename = None):\n",
    "        return\n",
    "\n",
    "    def train(self, X_train = None, y_train = None, X_val = None, y_val = None, X_test = None, y_test = None):\n",
    "        return None\n"
   ]
  },
  {
   "cell_type": "code",
   "execution_count": null,
   "metadata": {},
   "outputs": [
    {
     "name": "stderr",
     "output_type": "stream",
     "text": [
      "Cloning into './final-submission'...\n"
     ]
    }
   ],
   "source": [
    "model_name = \"Chronos-Tiny\"\n",
    "model_type = \"LSTM\"  # Or any model type you prefer\n",
    "model = ChronosModel(model_name=model_name, model_type=model_type)\n",
    "repo_url = \"git@github.com:BTW25-Data-Science-Challenge/final-submission.git\"\n",
    "model.model = model._BaseModel__custom_load(repo_url)\n",
    "\n",
    "# Simulate input data (example DataFrame)\n",
    "data = pd.read_csv(\"/home/julius/final-submission/data/day_ahead_prices.csv\", parse_dates=[\"timestamp\"]).set_index(\"timestamp\")\n",
    "\n",
    "# Perform a forecast\n",
    "forecast_results = model._BaseModel__run_prediction(data)\n",
    "\n",
    "# Display the forecast\n",
    "print(forecast_results)"
   ]
  },
  {
   "cell_type": "markdown",
   "metadata": {},
   "source": [
    "## Gathering Domain Knowledge \n",
    "\n",
    "**TODO What does the reader have to know about the energy market**"
   ]
  },
  {
   "cell_type": "markdown",
   "metadata": {},
   "source": [
    "## Data Sources"
   ]
  },
  {
   "cell_type": "markdown",
   "metadata": {},
   "source": [
    "## Data Cleaning\n"
   ]
  },
  {
   "cell_type": "code",
   "execution_count": null,
   "metadata": {},
   "outputs": [],
   "source": []
  },
  {
   "cell_type": "markdown",
   "metadata": {},
   "source": [
    "## Data Analysis"
   ]
  },
  {
   "cell_type": "code",
   "execution_count": null,
   "metadata": {},
   "outputs": [],
   "source": []
  },
  {
   "cell_type": "markdown",
   "metadata": {},
   "source": [
    "### Comparing Feature Importances"
   ]
  },
  {
   "cell_type": "markdown",
   "metadata": {},
   "source": [
    "#### AutoGluon"
   ]
  },
  {
   "cell_type": "markdown",
   "metadata": {},
   "source": [
    "#### Temporal-Fusion-Transformer"
   ]
  },
  {
   "cell_type": "markdown",
   "metadata": {},
   "source": [
    "## Visualization & Story Telling"
   ]
  },
  {
   "cell_type": "markdown",
   "metadata": {},
   "source": [
    "### Baseline Models Benchmark"
   ]
  },
  {
   "cell_type": "markdown",
   "metadata": {},
   "source": [
    "### LSTMs"
   ]
  },
  {
   "cell_type": "markdown",
   "metadata": {},
   "source": [
    "### Chronos"
   ]
  },
  {
   "cell_type": "markdown",
   "metadata": {},
   "source": [
    "Chronos is a framework for pre-trained probabilistic time series models introduced by TODO Chronos in March 2024. It tokenizes time series values into a fixed vocabulary through scaling and quantization and trains transformer-based language models on these tokens using the cross-entropy loss function. This means that from a time series after a mean scaling values are taken from defined points of a time series. These context tokens are then used for the (pre)training. Chronos is designed without time-series-specific architecture, resulting in a minimalistic yet effective approach. The framework achieved remarkable results in in-domain experiments and demonstrated competitive zero-shot performance, comparable to models specifically trained on similar tasks.\n",
    "\n",
    "The developer of Chronos provided a GitHub Repository (https://github.com/amazon-science/chronos-forecasting/tree/main) which enables the user to either use the pretrained models for forecasting fine tune models on their own Data. Compared to the T5 architecture Chronos reduces the vocabulary size resulting in five different models ranging from eight million to 710 million parameters."
   ]
  },
  {
   "cell_type": "markdown",
   "metadata": {},
   "source": [
    "In this work, the pretrained Chronos-T5 (Tiny) model was utilized as a benchmark to assess and improve its performance by fine-tuning it on our own data. Specifically, we focused on fine tune the model with the day-ahead electricity prices from ENTSO-E as a domain-specific dataset. The tiny model was chosen for its practicality, as it can be fine-tuned and utilized for forecasting tasks even on a standard laptop. To gain deeper insights into the impact of the dataset size and training steps on model performance, we conducted fine-tuning experiments in four distinct ways.\n",
    "\n",
    "The energy market has experienced heightened volatility in recent years, driven by geopolitical and economic disruptions such as the Ukraine war. To evaluate the impact of dataset characteristics on model performance, we divided the data into two subsets. The first dataset contains day-ahead prices from January 2022 to December 2023, and the second one data spanning from January 2015 to December 2023. The smaller dataset focuses primarily on recent, highly volatile market conditions, reflecting current dynamics. In contrast, the larger dataset spans a longer historical period, capturing a broader range of market scenarios. This approach enables a direct comparison to determine whether the smaller, more focused dataset enhances adaptability to recent volatility or if the larger dataset provides a more comprehensive foundation due to its diversity.\n",
    "\n",
    "The developers of Chronos fine-tuned their Chronos-T5 (Small) model with 1000 training steps and achieved remarkable results. We were interested if even more fine-tuning steps could increase the models performance. Therefore, for both datasets, the fine-tuning was executed with two configurations of training steps—1,000 and 10,000 steps. This comprehensive setup aimed to explore the potential of domain-specific fine-tuning in enhancing the model's capabilities.\n",
    "\n",
    "Chronos models are probabilistic models. Therefore an evaluation which of the fine tuned models performs the best should be done on a large test-set. To determine which configuration performs best for the challenge of predicting 24-hour day-ahead energy prices, we conducted forecasts for a full year, from the beginning of December 2023 to the end of November 2024. For each forecasted day, the context data consisted of the most recent 512 hourly day-ahead prices."
   ]
  },
  {
   "cell_type": "markdown",
   "metadata": {},
   "source": [
    "The results are computes as following. For each 24 values of one day we calculated the root mean squared error and the absolute error. For each day the mean of these values are calculated and over the whole year the mean is created again. The yearly Results of the Chronos-T5 (Tiny) model and its fine-tuned versions are presented in the table below.\n",
    "\n",
    "|Chronos-T5 (Tiny)    |1. Zero-Shot  |2. Fine-Tuned Data: 2015 Steps: 1000|3. Fine-Tuned Data: 2015 Steps: 1000|4. Fine-Tuned Data: 2015 Steps: 1000|5. Fine-Tuned Data: 2015 Steps: 1000|\n",
    "|------------|------------|------------|------------|------------|------------|\n",
    "| RMSE              | 25.817  | 22.739    | 23.501 | 24.552 | 26.413 |\n",
    "| RMSE in percent   | 117.48% | 120.92%   | 146.55% | 128.25% | 137.28% |\n",
    "| MAE               | 20.127  | 17.254    | 17.969 | 18.59 | 20.263 |\n",
    "| MAE in percent    | 2637.80% | 2484.01% | 3311.03% | 3168.22% | 4038.85% |"
   ]
  },
  {
   "cell_type": "markdown",
   "metadata": {},
   "source": [
    "These results reveal several key insights. First, not all fine-tuned models outperform the benchmark. Additionally, models fine-tuned on the larger dataset, which includes data from 2015, tend to perform better than those fine-tuned on the smaller, more recent dataset. This may be due to the fact that, although the energy market is currently highly volatile, less volatile days dominate the market, making the larger dataset, with its broader range of scenarios, more beneficial. Furthermore, the models trained with 1,000 steps, rather than 10,000, tend to perform better. This could indicate that overfitting occurred with the longer training duration.\n",
    "\n",
    "It is clear that the model which was fine-tuned on the large dataset with 1000 training steps Performs the best. This model has the lowest RMSE and MAE. On average the difference between the predicted hourly day-ahead price and its actual value is 17.254 Euro.\n",
    "\n",
    "Interesting is that model three and four have still a better performance in the MAE and RMSE, but its corresponding percentage value are outperformed by the benchmark. This shows that with the pretraining the overall error is reduced, but the models are getting worse in predicting extreme scenarios like energy prices above 500 Euros and prices below zero euros.\n",
    "\n",
    "Model five is outperformed by the benchmark in all metrics."
   ]
  },
  {
   "cell_type": "markdown",
   "metadata": {},
   "source": [
    "As already mentioned there are several sizes of Chronos models available. Additional to the Chronos-T5 (Tiny) model we investigated the performance of the Chronos-T5 (Large) model. For this model we performed the same fine-tuning steps as we did for the hronos-T5 (Tiny) model."
   ]
  },
  {
   "cell_type": "markdown",
   "metadata": {},
   "source": [
    "The yearly Results of the Chronos-T5 (Large) model and its fine-tuned versions are presented in the table below.\n",
    "\n",
    "|Chronos-T5 (Large)    |Zero-Shot  |Fine-Tuned Data: 2015 Steps: 1000|Fine-Tuned Data: 2015 Steps: 1000|Fine-Tuned Data: 2015 Steps: 1000|Fine-Tuned Data: 2015 Steps: 1000|\n",
    "|------------|------------|------------|------------|------------|------------|\n",
    "| RMSE | 25.803 | 22.818 | Row 1 Col4 | Row 1 Col5 | Row 1 Col6 |\n",
    "| MAE | 2575.93% | 2604.36% | Row 2 Col4 | Row 2 Col5 | Row 2 Col6 |\n",
    "| MAE in percent | 2575.93% | 2604.36% | Row 2 Col4 | Row 2 Col5 | Row 2 Col6 |"
   ]
  },
  {
   "cell_type": "code",
   "execution_count": 6,
   "metadata": {},
   "outputs": [
    {
     "name": "stdout",
     "output_type": "stream",
     "text": [
      "Defaulting to user installation because normal site-packages is not writeable\n",
      "Collecting git+https://github.com/amazon-science/chronos-forecasting.git\n",
      "  Cloning https://github.com/amazon-science/chronos-forecasting.git to /tmp/pip-req-build-776qxked\n",
      "  Running command git clone --filter=blob:none --quiet https://github.com/amazon-science/chronos-forecasting.git /tmp/pip-req-build-776qxked\n",
      "  Resolved https://github.com/amazon-science/chronos-forecasting.git to commit ad410c9c0ae0d499aeec9a7af09b0636844b6274\n",
      "  Installing build dependencies ... \u001b[?25ldone\n",
      "\u001b[?25h  Getting requirements to build wheel ... \u001b[?25ldone\n",
      "\u001b[?25h  Preparing metadata (pyproject.toml) ... \u001b[?25ldone\n",
      "\u001b[?25hRequirement already satisfied: transformers<4.48,>=4.30 in /home/julius/.local/lib/python3.10/site-packages (from chronos-forecasting==1.4.1) (4.46.1)\n",
      "Collecting accelerate<1,>=0.32\n",
      "  Downloading accelerate-0.34.2-py3-none-any.whl (324 kB)\n",
      "\u001b[2K     \u001b[90m━━━━━━━━━━━━━━━━━━━━━━━━━━━━━━━━━━━━━━━\u001b[0m \u001b[32m324.4/324.4 KB\u001b[0m \u001b[31m1.4 MB/s\u001b[0m eta \u001b[36m0:00:00\u001b[0m00:01\u001b[0m00:01\u001b[0m\n",
      "\u001b[?25hRequirement already satisfied: torch<2.6,>=2.0 in /home/julius/.local/lib/python3.10/site-packages (from chronos-forecasting==1.4.1) (2.3.1+cu121)\n",
      "Requirement already satisfied: numpy<3.0.0,>=1.17 in /home/julius/.local/lib/python3.10/site-packages (from accelerate<1,>=0.32->chronos-forecasting==1.4.1) (1.26.4)\n",
      "Requirement already satisfied: packaging>=20.0 in /home/julius/.local/lib/python3.10/site-packages (from accelerate<1,>=0.32->chronos-forecasting==1.4.1) (24.1)\n",
      "Requirement already satisfied: safetensors>=0.4.3 in /home/julius/.local/lib/python3.10/site-packages (from accelerate<1,>=0.32->chronos-forecasting==1.4.1) (0.4.5)\n",
      "Requirement already satisfied: huggingface-hub>=0.21.0 in /home/julius/.local/lib/python3.10/site-packages (from accelerate<1,>=0.32->chronos-forecasting==1.4.1) (0.26.2)\n",
      "Requirement already satisfied: pyyaml in /usr/lib/python3/dist-packages (from accelerate<1,>=0.32->chronos-forecasting==1.4.1) (5.4.1)\n",
      "Requirement already satisfied: psutil in /home/julius/.local/lib/python3.10/site-packages (from accelerate<1,>=0.32->chronos-forecasting==1.4.1) (6.1.0)\n",
      "Requirement already satisfied: fsspec in /home/julius/.local/lib/python3.10/site-packages (from torch<2.6,>=2.0->chronos-forecasting==1.4.1) (2024.2.0)\n",
      "Requirement already satisfied: typing-extensions>=4.8.0 in /home/julius/.local/lib/python3.10/site-packages (from torch<2.6,>=2.0->chronos-forecasting==1.4.1) (4.12.2)\n",
      "Requirement already satisfied: nvidia-cuda-cupti-cu12==12.1.105 in /home/julius/.local/lib/python3.10/site-packages (from torch<2.6,>=2.0->chronos-forecasting==1.4.1) (12.1.105)\n",
      "Requirement already satisfied: nvidia-cusparse-cu12==12.1.0.106 in /home/julius/.local/lib/python3.10/site-packages (from torch<2.6,>=2.0->chronos-forecasting==1.4.1) (12.1.0.106)\n",
      "Requirement already satisfied: nvidia-nccl-cu12==2.20.5 in /home/julius/.local/lib/python3.10/site-packages (from torch<2.6,>=2.0->chronos-forecasting==1.4.1) (2.20.5)\n",
      "Requirement already satisfied: nvidia-cuda-runtime-cu12==12.1.105 in /home/julius/.local/lib/python3.10/site-packages (from torch<2.6,>=2.0->chronos-forecasting==1.4.1) (12.1.105)\n",
      "Requirement already satisfied: triton==2.3.1 in /home/julius/.local/lib/python3.10/site-packages (from torch<2.6,>=2.0->chronos-forecasting==1.4.1) (2.3.1)\n",
      "Requirement already satisfied: networkx in /home/julius/.local/lib/python3.10/site-packages (from torch<2.6,>=2.0->chronos-forecasting==1.4.1) (3.2.1)\n",
      "Requirement already satisfied: sympy in /home/julius/.local/lib/python3.10/site-packages (from torch<2.6,>=2.0->chronos-forecasting==1.4.1) (1.13.1)\n",
      "Requirement already satisfied: nvidia-cusolver-cu12==11.4.5.107 in /home/julius/.local/lib/python3.10/site-packages (from torch<2.6,>=2.0->chronos-forecasting==1.4.1) (11.4.5.107)\n",
      "Requirement already satisfied: nvidia-cublas-cu12==12.1.3.1 in /home/julius/.local/lib/python3.10/site-packages (from torch<2.6,>=2.0->chronos-forecasting==1.4.1) (12.1.3.1)\n",
      "Requirement already satisfied: nvidia-curand-cu12==10.3.2.106 in /home/julius/.local/lib/python3.10/site-packages (from torch<2.6,>=2.0->chronos-forecasting==1.4.1) (10.3.2.106)\n",
      "Requirement already satisfied: nvidia-cudnn-cu12==8.9.2.26 in /home/julius/.local/lib/python3.10/site-packages (from torch<2.6,>=2.0->chronos-forecasting==1.4.1) (8.9.2.26)\n",
      "Requirement already satisfied: filelock in /home/julius/.local/lib/python3.10/site-packages (from torch<2.6,>=2.0->chronos-forecasting==1.4.1) (3.13.1)\n",
      "Requirement already satisfied: jinja2 in /home/julius/.local/lib/python3.10/site-packages (from torch<2.6,>=2.0->chronos-forecasting==1.4.1) (3.1.3)\n",
      "Requirement already satisfied: nvidia-nvtx-cu12==12.1.105 in /home/julius/.local/lib/python3.10/site-packages (from torch<2.6,>=2.0->chronos-forecasting==1.4.1) (12.1.105)\n",
      "Requirement already satisfied: nvidia-cufft-cu12==11.0.2.54 in /home/julius/.local/lib/python3.10/site-packages (from torch<2.6,>=2.0->chronos-forecasting==1.4.1) (11.0.2.54)\n",
      "Requirement already satisfied: nvidia-cuda-nvrtc-cu12==12.1.105 in /home/julius/.local/lib/python3.10/site-packages (from torch<2.6,>=2.0->chronos-forecasting==1.4.1) (12.1.105)\n",
      "Requirement already satisfied: nvidia-nvjitlink-cu12 in /home/julius/.local/lib/python3.10/site-packages (from nvidia-cusolver-cu12==11.4.5.107->torch<2.6,>=2.0->chronos-forecasting==1.4.1) (12.1.105)\n",
      "Requirement already satisfied: regex!=2019.12.17 in /home/julius/.local/lib/python3.10/site-packages (from transformers<4.48,>=4.30->chronos-forecasting==1.4.1) (2024.9.11)\n",
      "Requirement already satisfied: tqdm>=4.27 in /home/julius/.local/lib/python3.10/site-packages (from transformers<4.48,>=4.30->chronos-forecasting==1.4.1) (4.66.5)\n",
      "Requirement already satisfied: tokenizers<0.21,>=0.20 in /home/julius/.local/lib/python3.10/site-packages (from transformers<4.48,>=4.30->chronos-forecasting==1.4.1) (0.20.1)\n",
      "Requirement already satisfied: requests in /home/julius/.local/lib/python3.10/site-packages (from transformers<4.48,>=4.30->chronos-forecasting==1.4.1) (2.32.3)\n",
      "Requirement already satisfied: MarkupSafe>=2.0 in /usr/lib/python3/dist-packages (from jinja2->torch<2.6,>=2.0->chronos-forecasting==1.4.1) (2.0.1)\n",
      "Requirement already satisfied: charset-normalizer<4,>=2 in /home/julius/.local/lib/python3.10/site-packages (from requests->transformers<4.48,>=4.30->chronos-forecasting==1.4.1) (3.4.0)\n",
      "Requirement already satisfied: idna<4,>=2.5 in /usr/lib/python3/dist-packages (from requests->transformers<4.48,>=4.30->chronos-forecasting==1.4.1) (3.3)\n",
      "Requirement already satisfied: urllib3<3,>=1.21.1 in /usr/lib/python3/dist-packages (from requests->transformers<4.48,>=4.30->chronos-forecasting==1.4.1) (1.26.5)\n",
      "Requirement already satisfied: certifi>=2017.4.17 in /usr/lib/python3/dist-packages (from requests->transformers<4.48,>=4.30->chronos-forecasting==1.4.1) (2020.6.20)\n",
      "Requirement already satisfied: mpmath<1.4,>=1.1.0 in /home/julius/.local/lib/python3.10/site-packages (from sympy->torch<2.6,>=2.0->chronos-forecasting==1.4.1) (1.3.0)\n",
      "Building wheels for collected packages: chronos-forecasting\n",
      "  Building wheel for chronos-forecasting (pyproject.toml) ... \u001b[?25ldone\n",
      "\u001b[?25h  Created wheel for chronos-forecasting: filename=chronos_forecasting-1.4.1-py3-none-any.whl size=29154 sha256=0ddca36d3ab7c326aa669577503c52cb129ae029cab17162867aeeda02cdaa08\n",
      "  Stored in directory: /tmp/pip-ephem-wheel-cache-b97xhgwz/wheels/bf/c1/65/08857e57345ef1b34ba0edb4791f1b2594943e82f34e93a4ab\n",
      "Successfully built chronos-forecasting\n",
      "Installing collected packages: accelerate, chronos-forecasting\n",
      "  Attempting uninstall: accelerate\n",
      "    Found existing installation: accelerate 1.1.0\n",
      "    Uninstalling accelerate-1.1.0:\n",
      "      Successfully uninstalled accelerate-1.1.0\n",
      "Successfully installed accelerate-0.34.2 chronos-forecasting-1.4.1\n",
      "Defaulting to user installation because normal site-packages is not writeable\n",
      "Looking in indexes: https://download.pytorch.org/whl/cu121\n",
      "Requirement already satisfied: torch==2.3.1 in /home/julius/.local/lib/python3.10/site-packages (2.3.1+cu121)\n",
      "Requirement already satisfied: torchvision==0.18.1 in /home/julius/.local/lib/python3.10/site-packages (0.18.1+cu121)\n",
      "Requirement already satisfied: torchaudio==2.3.1 in /home/julius/.local/lib/python3.10/site-packages (2.3.1+cu121)\n",
      "Requirement already satisfied: jinja2 in /home/julius/.local/lib/python3.10/site-packages (from torch==2.3.1) (3.1.3)\n",
      "Requirement already satisfied: typing-extensions>=4.8.0 in /home/julius/.local/lib/python3.10/site-packages (from torch==2.3.1) (4.12.2)\n",
      "Requirement already satisfied: networkx in /home/julius/.local/lib/python3.10/site-packages (from torch==2.3.1) (3.2.1)\n",
      "Requirement already satisfied: sympy in /home/julius/.local/lib/python3.10/site-packages (from torch==2.3.1) (1.13.1)\n",
      "Requirement already satisfied: fsspec in /home/julius/.local/lib/python3.10/site-packages (from torch==2.3.1) (2024.2.0)\n",
      "Requirement already satisfied: nvidia-cuda-nvrtc-cu12==12.1.105 in /home/julius/.local/lib/python3.10/site-packages (from torch==2.3.1) (12.1.105)\n",
      "Requirement already satisfied: nvidia-cudnn-cu12==8.9.2.26 in /home/julius/.local/lib/python3.10/site-packages (from torch==2.3.1) (8.9.2.26)\n",
      "Requirement already satisfied: nvidia-cufft-cu12==11.0.2.54 in /home/julius/.local/lib/python3.10/site-packages (from torch==2.3.1) (11.0.2.54)\n",
      "Requirement already satisfied: nvidia-cusparse-cu12==12.1.0.106 in /home/julius/.local/lib/python3.10/site-packages (from torch==2.3.1) (12.1.0.106)\n",
      "Requirement already satisfied: triton==2.3.1 in /home/julius/.local/lib/python3.10/site-packages (from torch==2.3.1) (2.3.1)\n",
      "Requirement already satisfied: nvidia-nccl-cu12==2.20.5 in /home/julius/.local/lib/python3.10/site-packages (from torch==2.3.1) (2.20.5)\n",
      "Requirement already satisfied: nvidia-cublas-cu12==12.1.3.1 in /home/julius/.local/lib/python3.10/site-packages (from torch==2.3.1) (12.1.3.1)\n",
      "Requirement already satisfied: filelock in /home/julius/.local/lib/python3.10/site-packages (from torch==2.3.1) (3.13.1)\n",
      "Requirement already satisfied: nvidia-curand-cu12==10.3.2.106 in /home/julius/.local/lib/python3.10/site-packages (from torch==2.3.1) (10.3.2.106)\n",
      "Requirement already satisfied: nvidia-cuda-cupti-cu12==12.1.105 in /home/julius/.local/lib/python3.10/site-packages (from torch==2.3.1) (12.1.105)\n",
      "Requirement already satisfied: nvidia-nvtx-cu12==12.1.105 in /home/julius/.local/lib/python3.10/site-packages (from torch==2.3.1) (12.1.105)\n",
      "Requirement already satisfied: nvidia-cusolver-cu12==11.4.5.107 in /home/julius/.local/lib/python3.10/site-packages (from torch==2.3.1) (11.4.5.107)\n",
      "Requirement already satisfied: nvidia-cuda-runtime-cu12==12.1.105 in /home/julius/.local/lib/python3.10/site-packages (from torch==2.3.1) (12.1.105)\n",
      "Requirement already satisfied: numpy in /home/julius/.local/lib/python3.10/site-packages (from torchvision==0.18.1) (1.26.4)\n",
      "Requirement already satisfied: pillow!=8.3.*,>=5.3.0 in /usr/lib/python3/dist-packages (from torchvision==0.18.1) (9.0.1)\n",
      "Requirement already satisfied: nvidia-nvjitlink-cu12 in /home/julius/.local/lib/python3.10/site-packages (from nvidia-cusolver-cu12==11.4.5.107->torch==2.3.1) (12.1.105)\n",
      "Requirement already satisfied: MarkupSafe>=2.0 in /usr/lib/python3/dist-packages (from jinja2->torch==2.3.1) (2.0.1)\n",
      "Requirement already satisfied: mpmath<1.4,>=1.1.0 in /home/julius/.local/lib/python3.10/site-packages (from sympy->torch==2.3.1) (1.3.0)\n"
     ]
    }
   ],
   "source": [
    "!pip install git+https://github.com/amazon-science/chronos-forecasting.git\n",
    "!pip install torch==2.3.1 torchvision==0.18.1 torchaudio==2.3.1 --index-url https://download.pytorch.org/whl/cu121"
   ]
  },
  {
   "cell_type": "code",
   "execution_count": 10,
   "metadata": {},
   "outputs": [
    {
     "name": "stdout",
     "output_type": "stream",
     "text": [
      "--2025-01-16 15:15:35--  https://github.com/BTW25-Data-Science-Challenge/final-submission/tree/chronos/models/models/Chronos-Tiny-2015-1000/checkpoint-final\n",
      "Resolving github.com (github.com)... 140.82.121.3\n",
      "Connecting to github.com (github.com)|140.82.121.3|:443... connected.\n",
      "HTTP request sent, awaiting response... "
     ]
    },
    {
     "name": "stdout",
     "output_type": "stream",
     "text": [
      "404 Not Found\n",
      "2025-01-16 15:15:35 ERROR 404: Not Found.\n",
      "\n"
     ]
    }
   ],
   "source": [
    "!wget https://github.com/BTW25-Data-Science-Challenge/final-submission/tree/chronos/models/models/Chronos-Tiny-2015-1000/checkpoint-final"
   ]
  },
  {
   "cell_type": "markdown",
   "metadata": {},
   "source": [
    "### Temporal Fusion Transformer"
   ]
  },
  {
   "cell_type": "markdown",
   "metadata": {},
   "source": [
    "### AutoGluon"
   ]
  },
  {
   "cell_type": "markdown",
   "metadata": {},
   "source": [
    "### Hacking AutoGluon"
   ]
  },
  {
   "cell_type": "markdown",
   "metadata": {},
   "source": [
    "## Predictive Modeling"
   ]
  },
  {
   "cell_type": "markdown",
   "metadata": {},
   "source": [
    "### Final Benchmark"
   ]
  },
  {
   "cell_type": "markdown",
   "metadata": {},
   "source": [
    "### Final Forecast"
   ]
  },
  {
   "cell_type": "code",
   "execution_count": 3,
   "metadata": {},
   "outputs": [],
   "source": [
    "# TODO Download Up to date Data\n",
    "# TODO Load best model from disk\n",
    "# TODO Compute Forecast\n",
    "# TODO Write to File"
   ]
  },
  {
   "cell_type": "markdown",
   "metadata": {},
   "source": [
    "## Summary"
   ]
  },
  {
   "cell_type": "markdown",
   "metadata": {},
   "source": [
    "## Future Work"
   ]
  },
  {
   "cell_type": "markdown",
   "metadata": {},
   "source": [
    "To further improve Chronos one option would be to do a hyperparameter optimization. This would help to find the best hyperparameter configuration for a specific model. "
   ]
  },
  {
   "cell_type": "markdown",
   "metadata": {},
   "source": [
    "## Conclusion "
   ]
  },
  {
   "cell_type": "markdown",
   "metadata": {},
   "source": []
  }
 ],
 "metadata": {
  "kernelspec": {
   "display_name": "Python 3",
   "language": "python",
   "name": "python3"
  },
  "language_info": {
   "codemirror_mode": {
    "name": "ipython",
    "version": 3
   },
   "file_extension": ".py",
   "mimetype": "text/x-python",
   "name": "python",
   "nbconvert_exporter": "python",
   "pygments_lexer": "ipython3",
   "version": "3.10.12"
  }
 },
 "nbformat": 4,
 "nbformat_minor": 2
}
