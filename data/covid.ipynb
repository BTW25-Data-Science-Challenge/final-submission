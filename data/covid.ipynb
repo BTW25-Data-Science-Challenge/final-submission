{
 "cells": [
  {
   "cell_type": "code",
   "id": "initial_id",
   "metadata": {
    "collapsed": true,
    "ExecuteTime": {
     "end_time": "2024-12-18T13:39:23.263140Z",
     "start_time": "2024-12-18T13:39:21.603657Z"
    }
   },
   "source": "import pandas as pd",
   "outputs": [],
   "execution_count": 1
  },
  {
   "metadata": {
    "ExecuteTime": {
     "end_time": "2024-12-18T13:39:44.234211Z",
     "start_time": "2024-12-18T13:39:43.287021Z"
    }
   },
   "cell_type": "code",
   "source": [
    "FILE_URL = 'https://pada.psycharchives.org/bitstream/9ff033a9-4084-4d0e-87eb-aa963a1324a5'\n",
    "covid_df = pd.read_csv(FILE_URL, sep=\",\", header=[0])\n",
    "print(covid_df.head().iloc[:,:5])"
   ],
   "id": "b1a1cc6f74115b55",
   "outputs": [
    {
     "name": "stdout",
     "output_type": "stream",
     "text": [
      "   Unnamed: 0               state   Measure   2020-03-08  2020-03-09\n",
      "0         1.0  Baden-Wuerttemberg  leavehome         0.0         0.0\n",
      "1         1.0  Baden-Wuerttemberg       dist         0.0         0.0\n",
      "2         1.0  Baden-Wuerttemberg        msk         0.0         0.0\n",
      "3         1.0  Baden-Wuerttemberg     shppng         0.0         0.0\n",
      "4         1.0  Baden-Wuerttemberg       hcut         0.0         0.0\n"
     ]
    }
   ],
   "execution_count": 2
  },
  {
   "metadata": {
    "ExecuteTime": {
     "end_time": "2024-12-18T13:39:45.155434Z",
     "start_time": "2024-12-18T13:39:45.151730Z"
    }
   },
   "cell_type": "code",
   "source": [
    "# dict with influence of measure (see readme)\n",
    "measure_influence = {\n",
    "    'leavehome': 1,\n",
    "    'dist': 0,\n",
    "    'msk': 1,\n",
    "    'shppng': 2,\n",
    "    'hcut': 2,\n",
    "    'ess_shps': 2,\n",
    "    'zoo': 0,\n",
    "    'demo': 0,\n",
    "    'school': 1,\n",
    "    'church': 0,\n",
    "    'onefriend': 0,\n",
    "    'morefriends': 0,\n",
    "    'plygrnd': 0,\n",
    "    'daycare': 2,\n",
    "    'trvl': 1,\n",
    "    'gastr': 2\n",
    "}\n",
    "# dict with state relative population of country\n",
    "state_percentages = {\n",
    "    'Baden-Wuerttemberg': 0.133924061,\n",
    "    'Bayern': 0.158676851,\n",
    "    'Berlin': 0.044670274,\n",
    "    'Brandenburg': 0.030491172,\n",
    "    'Bremen': 0.008169464,\n",
    "    'Hamburg': 0.022560236,\n",
    "    'Hessen': 0.075833,\n",
    "    'Mecklenburg-Vorpommern': 0.019245033,\n",
    "    'Niedersachsen': 0.096398323,\n",
    "    'Nordrhein-Westfalen': 0.214840756,\n",
    "    'Rheinland-Pfalz': 0.049301337,\n",
    "    'Saarland': 0.011744796,\n",
    "    'Sachsen': 0.048299274,\n",
    "    'Sachsen-Anhalt': 0.025752514,\n",
    "    'Schleswig-Holstein': 0.035026746,\n",
    "    'Thueringen': 0.025066162\n",
    "}"
   ],
   "id": "bd5c50fa14b3c507",
   "outputs": [],
   "execution_count": 3
  },
  {
   "metadata": {
    "ExecuteTime": {
     "end_time": "2024-12-18T13:39:56.707573Z",
     "start_time": "2024-12-18T13:39:56.703551Z"
    }
   },
   "cell_type": "code",
   "source": [
    "def evaluate_date(request_date):\n",
    "    if request_date in list(covid_df):\n",
    "        truncated_covid_df = covid_df[['state', 'Measure ', request_date]]\n",
    "        sum_value = 0\n",
    "        for index, row in truncated_covid_df.iterrows():\n",
    "            if row.isnull().values.any(): continue  # if any value in row is missing\n",
    "            if measure_influence[row['Measure ']] == 0: continue  # if measure has no influence\n",
    "            sum_value += ((int(row[request_date]) / 5) + 0.6) * state_percentages[row['state']] * measure_influence[\n",
    "                row['Measure ']]  # see readme documentation\n",
    "        return sum_value\n",
    "    else:\n",
    "        return 0"
   ],
   "id": "141230a9ef7cf55c",
   "outputs": [],
   "execution_count": 4
  },
  {
   "metadata": {
    "ExecuteTime": {
     "end_time": "2024-12-18T13:42:03.322466Z",
     "start_time": "2024-12-18T13:39:59.550939Z"
    }
   },
   "cell_type": "code",
   "source": [
    "# generate and populate dataframe with all dates from 2015-1-1 - today\n",
    "from datetime import date, timedelta\n",
    "\n",
    "working_dt = date(2015, 1, 1)\n",
    "end_dt = date(date.today().year, date.today().month, date.today().day)\n",
    "delta = timedelta(days=1)\n",
    "\n",
    "# generate new dataframe for output\n",
    "covid_factors_df = pd.DataFrame(columns=['factor'])\n",
    "\n",
    "# populate df\n",
    "while working_dt <= end_dt:\n",
    "    factor = evaluate_date(working_dt.isoformat())\n",
    "    date = working_dt.isoformat()\n",
    "    for hour in range(24):\n",
    "        covid_factors_df.loc[pd.Timestamp(working_dt.isoformat()) + pd.Timedelta(hours=hour)] = factor\n",
    "    working_dt += delta"
   ],
   "id": "e70ccf550611b0e0",
   "outputs": [],
   "execution_count": 5
  },
  {
   "metadata": {
    "ExecuteTime": {
     "end_time": "2024-12-18T13:42:03.352167Z",
     "start_time": "2024-12-18T13:42:03.340560Z"
    }
   },
   "cell_type": "code",
   "source": [
    "# test result\n",
    "covid_factors_df.head()"
   ],
   "id": "2e7ed332f38a7839",
   "outputs": [
    {
     "data": {
      "text/plain": [
       "                     factor\n",
       "2015-01-01 00:00:00     0.0\n",
       "2015-01-01 01:00:00     0.0\n",
       "2015-01-01 02:00:00     0.0\n",
       "2015-01-01 03:00:00     0.0\n",
       "2015-01-01 04:00:00     0.0"
      ],
      "text/html": [
       "<div>\n",
       "<style scoped>\n",
       "    .dataframe tbody tr th:only-of-type {\n",
       "        vertical-align: middle;\n",
       "    }\n",
       "\n",
       "    .dataframe tbody tr th {\n",
       "        vertical-align: top;\n",
       "    }\n",
       "\n",
       "    .dataframe thead th {\n",
       "        text-align: right;\n",
       "    }\n",
       "</style>\n",
       "<table border=\"1\" class=\"dataframe\">\n",
       "  <thead>\n",
       "    <tr style=\"text-align: right;\">\n",
       "      <th></th>\n",
       "      <th>factor</th>\n",
       "    </tr>\n",
       "  </thead>\n",
       "  <tbody>\n",
       "    <tr>\n",
       "      <th>2015-01-01 00:00:00</th>\n",
       "      <td>0.0</td>\n",
       "    </tr>\n",
       "    <tr>\n",
       "      <th>2015-01-01 01:00:00</th>\n",
       "      <td>0.0</td>\n",
       "    </tr>\n",
       "    <tr>\n",
       "      <th>2015-01-01 02:00:00</th>\n",
       "      <td>0.0</td>\n",
       "    </tr>\n",
       "    <tr>\n",
       "      <th>2015-01-01 03:00:00</th>\n",
       "      <td>0.0</td>\n",
       "    </tr>\n",
       "    <tr>\n",
       "      <th>2015-01-01 04:00:00</th>\n",
       "      <td>0.0</td>\n",
       "    </tr>\n",
       "  </tbody>\n",
       "</table>\n",
       "</div>"
      ]
     },
     "execution_count": 6,
     "metadata": {},
     "output_type": "execute_result"
    }
   ],
   "execution_count": 6
  }
 ],
 "metadata": {
  "kernelspec": {
   "display_name": "Python 3",
   "language": "python",
   "name": "python3"
  },
  "language_info": {
   "codemirror_mode": {
    "name": "ipython",
    "version": 2
   },
   "file_extension": ".py",
   "mimetype": "text/x-python",
   "name": "python",
   "nbconvert_exporter": "python",
   "pygments_lexer": "ipython2",
   "version": "2.7.6"
  }
 },
 "nbformat": 4,
 "nbformat_minor": 5
}
